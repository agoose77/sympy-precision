{
 "cells": [
  {
   "cell_type": "code",
   "execution_count": 1,
   "metadata": {},
   "outputs": [],
   "source": [
    "import mpmath as mp\n",
    "import sympy as sp\n",
    "sp.init_printing()"
   ]
  },
  {
   "cell_type": "markdown",
   "metadata": {},
   "source": [
    "Define our parameters\n",
    "---------------------"
   ]
  },
  {
   "cell_type": "code",
   "execution_count": 2,
   "metadata": {},
   "outputs": [],
   "source": [
    "precision = 40\n",
    "\n",
    "A = sp.Integer(12)\n",
    "i = 43\n",
    "\n",
    "# A-1 / A+1 will have type sp.Rational. \n",
    "# Here we take a Float to given precision\n",
    "α = ((A-1)/(A+1)).evalf(precision)**2\n",
    "X = sp.log(1/α)\n",
    "ξ = 1 + (α/(1-α))*sp.log(α)\n",
    "u = sp.log(2E6/1)"
   ]
  },
  {
   "cell_type": "code",
   "execution_count": 3,
   "metadata": {},
   "outputs": [
    {
     "name": "stdout",
     "output_type": "stream",
     "text": [
      "Variable    Type       Data/Info\n",
      "--------------------------------\n",
      "A           Integer    12\n",
      "X           Float      0.33410816932633238398308<...>2720037860996712218164558\n",
      "i           int        43\n",
      "mp          module     <module 'mpmath' from '/h<...>ages/mpmath/__init__.py'>\n",
      "precision   int        50\n",
      "sp          module     <module 'sympy' from '/ho<...>kages/sympy/__init__.py'>\n",
      "u           Float      14.5086577385242\n",
      "α           Float      0.71597633136094674556213<...>7751479289940828402366864\n",
      "ξ           Float      0.15776898982320378204263<...>2101571225404121283376843\n"
     ]
    }
   ],
   "source": [
    "%whos"
   ]
  },
  {
   "cell_type": "markdown",
   "metadata": {},
   "source": [
    "Define symbolic solution\n",
    "------------------------"
   ]
  },
  {
   "cell_type": "code",
   "execution_count": 4,
   "metadata": {},
   "outputs": [],
   "source": [
    "def n_average_collisions(α, X, u, i):    \n",
    "    k, m = sp.symbols(\"k, m\")\n",
    "    R_k = sp.Sum(\n",
    "        # Summand\n",
    "        (-1)**m * sp.factorial(k)/sp.factorial(m) * α**m*(1-α)**(k-m+1) * (u-k*X)**m,\n",
    "        # Limits\n",
    "        (m, 0, k-1)\n",
    "    )\n",
    "\n",
    "    R = sp.Piecewise(\n",
    "        # R(k>0):\n",
    "        ((R_k + (-1)**k*α**k*(u-k*X)**k) / (sp.factorial(k)*α**k*(1-α)**k), k > 0), \n",
    "        # R(k<=0):\n",
    "        (1, k <= 0)\n",
    "    )\n",
    "    \n",
    "    N = sp.Sum(\n",
    "        # Summand\n",
    "        1 + 1/α * (R*sp.exp((α*u-k*X)/(1-α)) - 1),\n",
    "        # Limits\n",
    "        (k, 0, i)\n",
    "    )\n",
    "    \n",
    "    return N"
   ]
  },
  {
   "cell_type": "markdown",
   "metadata": {},
   "source": [
    "Print analytical result\n",
    "-----------------------"
   ]
  },
  {
   "cell_type": "code",
   "execution_count": 5,
   "metadata": {},
   "outputs": [
    {
     "data": {
      "text/latex": [
       "$\\displaystyle \\sum_{k=0}^{i} \\begin{cases} 1 + \\frac{-1 + \\frac{α^{- k} \\left(1 - α\\right)^{- k} \\left(\\left(-1\\right)^{k} α^{k} \\left(- X k + u\\right)^{k} + \\sum_{m=0}^{k - 1} \\frac{\\left(-1\\right)^{m} α^{m} \\left(1 - α\\right)^{k - m + 1} \\left(- X k + u\\right)^{m} k!}{m!}\\right) e^{\\frac{- X k + u α}{1 - α}}}{k!}}{α} & \\text{for}\\: k > 0 \\\\1 + \\frac{e^{\\frac{- X k + u α}{1 - α}} - 1}{α} & \\text{otherwise} \\end{cases}$"
      ],
      "text/plain": [
       "      i                                                                       \n",
       "_____________                                                                 \n",
       "╲                                                                             \n",
       " ╲            ⎧                       ⎛                       k - 1           \n",
       "  ╲           ⎪                       ⎜                        ____           \n",
       "   ╲          ⎪                       ⎜                        ╲              \n",
       "    ╲         ⎪                       ⎜                         ╲       m  m  \n",
       "     ╲        ⎪          -k        -k ⎜    k  k           k      ╲  (-1) ⋅α ⋅(\n",
       "      ╲       ⎪         α  ⋅(1 - α)  ⋅⎜(-1) ⋅α ⋅(-X⋅k + u)  +    ╱  ──────────\n",
       "       ╲      ⎪                       ⎜                         ╱             \n",
       "        ╲     ⎪                       ⎜                        ╱              \n",
       "         ╲    ⎪                       ⎜                        ‾‾‾‾           \n",
       "          ╲   ⎪                       ⎝                       m = 0           \n",
       "           ╲  ⎨    -1 + ──────────────────────────────────────────────────────\n",
       "           ╱  ⎪                                                         k!    \n",
       "          ╱   ⎪1 + ───────────────────────────────────────────────────────────\n",
       "         ╱    ⎪                                                      α        \n",
       "        ╱     ⎪                                                               \n",
       "       ╱      ⎪                                                -X⋅k + u⋅α     \n",
       "      ╱       ⎪                                                ──────────     \n",
       "     ╱        ⎪                                                  1 - α        \n",
       "    ╱         ⎪                                               ℯ           - 1 \n",
       "   ╱          ⎪                                           1 + ─────────────── \n",
       "  ╱           ⎩                                                      α        \n",
       " ╱                                                                            \n",
       "╱                                                                             \n",
       "‾‾‾‾‾‾‾‾‾‾‾‾‾                                                                 \n",
       "    k = 0                                                                     \n",
       "\n",
       "                                                      \n",
       "                                                      \n",
       "                                                      \n",
       "                              ⎞                       \n",
       "                              ⎟                       \n",
       "                              ⎟  -X⋅k + u⋅α           \n",
       "      k - m + 1           m   ⎟  ──────────           \n",
       "1 - α)         ⋅(-X⋅k + u) ⋅k!⎟    1 - α              \n",
       "──────────────────────────────⎟⋅ℯ                     \n",
       "         m!                   ⎟                       \n",
       "                              ⎟                       \n",
       "                              ⎟                       \n",
       "                              ⎠                       \n",
       "───────────────────────────────────────────           \n",
       "                                                      \n",
       "───────────────────────────────────────────  for k > 0\n",
       "                                                      \n",
       "                                                      \n",
       "                                                      \n",
       "                                                      \n",
       "                                                      \n",
       "                                                      \n",
       "                                             otherwise\n",
       "                                                      \n",
       "                                                      \n",
       "                                                      \n",
       "                                                      \n",
       "                                                      "
      ]
     },
     "execution_count": 5,
     "metadata": {},
     "output_type": "execute_result"
    }
   ],
   "source": [
    "symbols = sp.symbols(\"α,X,u,i\")\n",
    "expr = n_average_collisions(*symbols)\n",
    "expr"
   ]
  },
  {
   "cell_type": "markdown",
   "metadata": {},
   "source": [
    "Evaluate result using mpmath\n",
    "----------------------------\n",
    "Passing in `n` implicitly uses mpmath, but we need to specify mpmath types for the constants"
   ]
  },
  {
   "cell_type": "code",
   "execution_count": 6,
   "metadata": {},
   "outputs": [
    {
     "data": {
      "image/png": "[encoded data removed]",
      "text/latex": [
       "$\\displaystyle 92.647226612382042830370553040943916969193047258979$"
      ],
      "text/plain": [
       "92.647226612382042830370553040943916969193047258979"
      ]
     },
     "execution_count": 6,
     "metadata": {},
     "output_type": "execute_result"
    }
   ],
   "source": [
    "expr.evalf(n=precision, subs={symbols[0]: α,\n",
    "                              symbols[1]: X,\n",
    "                              symbols[2]: u,\n",
    "                              symbols[3]: i})"
   ]
  },
  {
   "cell_type": "markdown",
   "metadata": {},
   "source": [
    "---"
   ]
  },
  {
   "cell_type": "markdown",
   "metadata": {},
   "source": [
    "Alternatively, using a direct approach\n",
    "--------------------------------------"
   ]
  },
  {
   "cell_type": "code",
   "execution_count": 7,
   "metadata": {},
   "outputs": [],
   "source": [
    "import mpmath as mp\n",
    "mp.mp.dps = precision\n",
    "\n",
    "def n_average_collisions_numerical(α, X, u, i):    \n",
    "    def term(k):\n",
    "        return 1 + 1/α * (R(α, X, u, k)*mp.exp((α*u-k*X)/(1-α)) - 1)\n",
    "    return mp.nsum(term, [0, i])\n",
    "\n",
    "def R(α, X, u, k):\n",
    "    if not k:\n",
    "        return 1.0\n",
    "    \n",
    "    def term(m):\n",
    "        return (-1)**m * mp.factorial(k)/mp.factorial(m) * α**m*(1-α)**(k-m+1) * (u-k*X)**m \n",
    "              \n",
    "    return (mp.nsum(term, [0, k-1]) + (-1)**k*α**k*(u-k*X)**k) / (mp.factorial(k)*α**k*(1-α)**k)"
   ]
  },
  {
   "cell_type": "markdown",
   "metadata": {},
   "source": [
    "Evaluate result, using mpmath types \n",
    "-----------------------------------\n",
    "These types implement operator overloading, so behave numerically"
   ]
  },
  {
   "cell_type": "code",
   "execution_count": 8,
   "metadata": {},
   "outputs": [
    {
     "data": {
      "text/plain": [
       "mpf('92.647226612382042830370553040941674860743773611584725')"
      ]
     },
     "execution_count": 8,
     "metadata": {},
     "output_type": "execute_result"
    }
   ],
   "source": [
    "n_average_collisions_numerical(α, X, u, 43)"
   ]
  }
 ],
 "metadata": {
  "kernelspec": {
   "display_name": "Python 3",
   "language": "python",
   "name": "python3"
  },
  "language_info": {
   "codemirror_mode": {
    "name": "ipython",
    "version": 3
   },
   "file_extension": ".py",
   "mimetype": "text/x-python",
   "name": "python",
   "nbconvert_exporter": "python",
   "pygments_lexer": "ipython3",
   "version": "3.7.3"
  }
 },
 "nbformat": 4,
 "nbformat_minor": 2
}
